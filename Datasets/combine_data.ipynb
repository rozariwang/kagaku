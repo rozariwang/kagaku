{
 "cells": [
  {
   "cell_type": "code",
   "execution_count": 3,
   "metadata": {},
   "outputs": [
    {
     "name": "stdout",
     "output_type": "stream",
     "text": [
      "Combined dataset saved to 'combined_nps(absolute coconut).txt'\n"
     ]
    }
   ],
   "source": [
    "import pandas as pd\n",
    "\n",
    "# Read the datasets as single-column files without headers\n",
    "coconut_df = pd.read_csv('unique_cleaned_coconut(absolute).txt', header=None)\n",
    "lotus_df = pd.read_csv('lotus_cleaned.txt', header=None)\n",
    "supernatural_df = pd.read_csv('supernatural_cleaned.txt', header=None)\n",
    "\n",
    "# Combine datasets and drop duplicates\n",
    "combined_df = pd.concat([coconut_df, lotus_df, supernatural_df]).drop_duplicates()\n",
    "\n",
    "# Save the combined dataset to a new file without headers\n",
    "combined_df.to_csv('combined_nps(absolute coconut).txt', index=False, header=False)\n",
    "\n",
    "print(\"Combined dataset saved to 'combined_nps(absolute coconut).txt'\")\n"
   ]
  },
  {
   "cell_type": "code",
   "execution_count": 4,
   "metadata": {},
   "outputs": [
    {
     "name": "stdout",
     "output_type": "stream",
     "text": [
      "1143594\n"
     ]
    }
   ],
   "source": [
    "count_df = pd.read_csv('combined_nps(absolute coconut).txt', header=None)\n",
    "print(len(count_df))"
   ]
  }
 ],
 "metadata": {
  "kernelspec": {
   "display_name": "chemLLM",
   "language": "python",
   "name": "python3"
  },
  "language_info": {
   "codemirror_mode": {
    "name": "ipython",
    "version": 3
   },
   "file_extension": ".py",
   "mimetype": "text/x-python",
   "name": "python",
   "nbconvert_exporter": "python",
   "pygments_lexer": "ipython3",
   "version": "3.10.11"
  }
 },
 "nbformat": 4,
 "nbformat_minor": 2
}
